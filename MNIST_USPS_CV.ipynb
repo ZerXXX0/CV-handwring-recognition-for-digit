{
  "nbformat": 4,
  "nbformat_minor": 0,
  "metadata": {
    "colab": {
      "provenance": [],
      "gpuType": "T4",
      "mount_file_id": "1oWKGpoS7pMp0bxWAg89qCkS0EFR-dQos",
      "authorship_tag": "ABX9TyPCH8vfcM+85L86annLAI60",
      "include_colab_link": true
    },
    "kernelspec": {
      "name": "python3",
      "display_name": "Python 3"
    },
    "language_info": {
      "name": "python"
    },
    "accelerator": "GPU"
  },
  "cells": [
    {
      "cell_type": "markdown",
      "metadata": {
        "id": "view-in-github",
        "colab_type": "text"
      },
      "source": [
        "<a href=\"https://colab.research.google.com/github/ZerXXX0/CV-handwring-recognition-for-digit/blob/main/MNIST_USPS_CV.ipynb\" target=\"_parent\"><img src=\"https://colab.research.google.com/assets/colab-badge.svg\" alt=\"Open In Colab\"/></a>"
      ]
    },
    {
      "cell_type": "code",
      "execution_count": null,
      "metadata": {
        "id": "8CDiSY_k7Y59"
      },
      "outputs": [],
      "source": [
        "# Used for unpickling byte stream of python objects on file system/disk\n",
        "import pickle\n",
        "# Used for decompressing .gzip files from file system/disk\n",
        "import gzip\n",
        "# Used for array operations\n",
        "import numpy as np"
      ]
    },
    {
      "cell_type": "markdown",
      "source": [
        "Loading MNIST Dataset"
      ],
      "metadata": {
        "id": "5CItPygH7e6e"
      }
    },
    {
      "cell_type": "code",
      "source": [
        "from google.colab import drive\n",
        "drive.mount('/content/drive')\n",
        "\n",
        "# Opening and decompressing .gzip file\n",
        "filename = '/content/drive/MyDrive/Colab Notebooks/dataset/mnist.pkl.gz'\n",
        "f = gzip.open(filename, 'rb')\n",
        "\n",
        "# Unpickling .pkl file saved as byte stream on disk to python objects\n",
        "trainingData, validationData, testingData = pickle.load(f, encoding='latin1')\n",
        "f.close()\n",
        "\n",
        "# Training feature vectors and training target extracted from trainingData (target represented using one-hot format)\n",
        "trainingTarget = np.array([1 if  trainingData[1][i] == t else 0  for i in range(len(trainingData[1])) for t in range(10)]).reshape(-1,10)\n",
        "trainingData = trainingData[0]\n",
        "\n",
        "# Validation feature vectors and validation target extracted from validationData\n",
        "validationTarget = validationData[1]\n",
        "validationData = validationData[0]\n",
        "\n",
        "# Testing feature vectors and testing target extracted from testingData\n",
        "testingTarget = testingData[1]\n",
        "testingData = testingData[0]"
      ],
      "metadata": {
        "colab": {
          "base_uri": "https://localhost:8080/"
        },
        "id": "Hq7-HVMt7b5g",
        "outputId": "2ad6ca97-30e3-440c-9f53-2492c0651c7f"
      },
      "execution_count": null,
      "outputs": [
        {
          "output_type": "stream",
          "name": "stdout",
          "text": [
            "Drive already mounted at /content/drive; to attempt to forcibly remount, call drive.mount(\"/content/drive\", force_remount=True).\n"
          ]
        }
      ]
    },
    {
      "cell_type": "markdown",
      "source": [
        "Loading USPS Dataset"
      ],
      "metadata": {
        "id": "saRNnAVT7j7y"
      }
    },
    {
      "cell_type": "code",
      "source": [
        "# Used to open image in file system/disk\n",
        "from PIL import Image\n",
        "# Used to navigate to required directory in the file system\n",
        "import os\n",
        "# Used to convert image data to array\n",
        "import numpy as np"
      ],
      "metadata": {
        "id": "7m-_hTP77hU-"
      },
      "execution_count": null,
      "outputs": []
    },
    {
      "cell_type": "code",
      "source": [
        "USPSMat  = []\n",
        "USPSTar  = []\n",
        "curPath  = '/content/drive/MyDrive/Colab Notebooks/dataset/USPSdata/USPSdata/Numerals'\n",
        "savedImg = []\n",
        "\n",
        "\n",
        "# Navigate to the 10 folders containing images for 10 labels\n",
        "for j in range(0,10):\n",
        "    curFolderPath = curPath + '/' + str(j)\n",
        "    imgs =  os.listdir(curFolderPath)\n",
        "    for img in imgs:\n",
        "        curImg = curFolderPath + '/' + img\n",
        "        if curImg[-3:] == 'png':\n",
        "\n",
        "            # Open image resize it, and save image array as well as labels in 2 lists\n",
        "            img = Image.open(curImg,'r')\n",
        "            img = img.resize((28, 28))\n",
        "            savedImg = img\n",
        "            imgdata = (255-np.array(img.getdata()))/255\n",
        "            USPSMat.append(imgdata)\n",
        "            USPSTar.append(j)"
      ],
      "metadata": {
        "id": "OHySQpsU7ryP"
      },
      "execution_count": null,
      "outputs": []
    },
    {
      "cell_type": "markdown",
      "source": [
        "Neural Networks"
      ],
      "metadata": {
        "id": "nyurEmjW7uVt"
      }
    },
    {
      "cell_type": "code",
      "source": [
        "epoch = 10"
      ],
      "metadata": {
        "id": "8dMJoEml43yH"
      },
      "execution_count": 45,
      "outputs": []
    },
    {
      "cell_type": "code",
      "source": [
        "import keras\n",
        "from keras.datasets import mnist\n",
        "from keras.layers import Dense\n",
        "from keras.models import Sequential\n",
        "from keras.layers import Conv2D, MaxPooling2D, Dropout, Flatten\n",
        "import time\n",
        "\n",
        "#DNN\n",
        "num_classes = len(trainingTarget[0])\n",
        "DNNclassifier = Sequential()\n",
        "DNNclassifier.add(Dense(units=200, activation='relu', input_shape=(len(trainingData[0]),)))\n",
        "DNNclassifier.add(Dropout(0.2))\n",
        "DNNclassifier.add(Dense(units=200, activation='relu'))\n",
        "DNNclassifier.add(Dropout(0.2))\n",
        "# DNNclassifier.add(Dense(units=200, activation='relu'))\n",
        "# DNNclassifier.add(Dropout(0.2))\n",
        "DNNclassifier.add(Dense(units=num_classes, activation='softmax'))\n",
        "DNNclassifier.compile(optimizer='Adamax', loss='categorical_crossentropy',metrics=['accuracy'])\n",
        "\n",
        "start_time = time.time()  # Start timing\n",
        "history = DNNclassifier.fit(trainingData, trainingTarget, batch_size=128, epochs=epoch,\n",
        "verbose=False,validation_data=(validationData, keras.utils.to_categorical(validationTarget, num_classes)))\n",
        "end_time = time.time()  # End timing\n",
        "\n",
        "execution_time = end_time - start_time  # Calculate elapsed time\n",
        "print(f\"DNN Execution Time: {execution_time:.2f} seconds\")"
      ],
      "metadata": {
        "id": "B3QrhOHv7-Vu",
        "colab": {
          "base_uri": "https://localhost:8080/"
        },
        "outputId": "e1dd860f-724f-4571-a742-f620aa0f8b5c"
      },
      "execution_count": 46,
      "outputs": [
        {
          "output_type": "stream",
          "name": "stderr",
          "text": [
            "/usr/local/lib/python3.10/dist-packages/keras/src/layers/core/dense.py:87: UserWarning: Do not pass an `input_shape`/`input_dim` argument to a layer. When using Sequential models, prefer using an `Input(shape)` object as the first layer in the model instead.\n",
            "  super().__init__(activity_regularizer=activity_regularizer, **kwargs)\n"
          ]
        },
        {
          "output_type": "stream",
          "name": "stdout",
          "text": [
            "DNN Execution Time: 9.29 seconds\n"
          ]
        }
      ]
    },
    {
      "cell_type": "code",
      "source": [
        "from sklearn.metrics import confusion_matrix\n",
        "\n",
        "loss,valAccuracy = DNNclassifier.evaluate(validationData, keras.utils.to_categorical(validationTarget, num_classes), verbose=False)\n",
        "loss,testAccuracy = DNNclassifier.evaluate(testingData, keras.utils.to_categorical(testingTarget, num_classes), verbose=False)\n",
        "loss,testUSPSAccuracy = DNNclassifier.evaluate(np.array(USPSMat), keras.utils.to_categorical(USPSTar, num_classes), verbose=False)\n",
        "dnnMNISTPrediction = np.argmax(DNNclassifier.predict(testingData), axis=1)\n",
        "dnnUSPSPrediction = np.argmax(DNNclassifier.predict(np.array(USPSMat)), axis=1)\n",
        "\n",
        "print ('---------------DNN----------------\\n')\n",
        "print('Validation accuracy    = ', valAccuracy*100)\n",
        "print('MNIST Testing accuracy = ', testAccuracy*100)\n",
        "print('USPS Testing accuracy  = ', testUSPSAccuracy*100,'\"\\n\"')\n",
        "print(\"\\nMNIST Confusion Matrix: \\n\\n\",confusion_matrix(testingTarget, dnnMNISTPrediction))\n",
        "print(\"\\nUSPS Confusion Matrix: \\n\\n\",confusion_matrix(USPSTar, dnnUSPSPrediction))"
      ],
      "metadata": {
        "id": "7UrfkQY48Afn",
        "colab": {
          "base_uri": "https://localhost:8080/"
        },
        "outputId": "e68036e1-e976-4e3b-bf18-25cb2b264002"
      },
      "execution_count": 47,
      "outputs": [
        {
          "output_type": "stream",
          "name": "stdout",
          "text": [
            "\u001b[1m313/313\u001b[0m \u001b[32m━━━━━━━━━━━━━━━━━━━━\u001b[0m\u001b[37m\u001b[0m \u001b[1m1s\u001b[0m 2ms/step\n",
            "\u001b[1m293/293\u001b[0m \u001b[32m━━━━━━━━━━━━━━━━━━━━\u001b[0m\u001b[37m\u001b[0m \u001b[1m1s\u001b[0m 3ms/step\n",
            "---------------DNN----------------\n",
            "\n",
            "Validation accuracy    =  93.84999871253967\n",
            "MNIST Testing accuracy =  93.37999820709229\n",
            "USPS Testing accuracy  =  42.52861142158508 \"\n",
            "\"\n",
            "\n",
            "MNIST Confusion Matrix: \n",
            "\n",
            " [[ 965    0    0    1    0    2    9    2    1    0]\n",
            " [   0 1119    2    2    1    1    4    2    4    0]\n",
            " [  10    2  945    9   12    1   11   18   20    4]\n",
            " [   2    1   24  919    0   24    2   19   11    8]\n",
            " [   1    1    6    0  895    0   14    2    4   59]\n",
            " [   6    1    3   20    5  814   17    5   12    9]\n",
            " [  12    3    3    0    8    7  922    1    2    0]\n",
            " [   2   10   25    3    4    0    0  953    1   30]\n",
            " [  13    5   10   11   10   15   14   15  865   16]\n",
            " [  12    6    1   10   14    4    1   14    6  941]]\n",
            "\n",
            "USPS Confusion Matrix: \n",
            "\n",
            " [[ 482    2  361   89  228  166  141  145   26  360]\n",
            " [ 180  329  303  170  216  150   37  469  125   21]\n",
            " [ 193    6 1320   88   35  148   80   65   44   20]\n",
            " [  68    1  229 1127    7  421   18   60   44   25]\n",
            " [  26   48   44   28  718   74   39  172   99  102]\n",
            " [   0    0    0    0    0    0    0    0    0    0]\n",
            " [   0    0    0    0    0    0    0    0    0    0]\n",
            " [   0    0    0    0    0    0    0    0    0    0]\n",
            " [   0    0    0    0    0    0    0    0    0    0]\n",
            " [   0    0    0    0    0    0    0    0    0    0]]\n"
          ]
        }
      ]
    },
    {
      "cell_type": "code",
      "source": [
        "# The matplotlib package is used for plotting graphs\n",
        "import matplotlib\n",
        "import matplotlib.pyplot as plt\n",
        "# Outputs training accuracy and loss against epochs\n",
        "fig2, ax2=plt.subplots(figsize=(23,8))\n",
        "ax2.plot(history.history['accuracy'])\n",
        "ax2.set(xlabel='Number of Epochs', ylabel='Training Accuracy')\n",
        "ax2.grid()\n",
        "plt.show()"
      ],
      "metadata": {
        "id": "pJn7YIoi8EuP",
        "colab": {
          "base_uri": "https://localhost:8080/",
          "height": 470
        },
        "outputId": "03f2114a-fa04-4265-9a51-4b6a8d2bb563"
      },
      "execution_count": 48,
      "outputs": [
        {
          "output_type": "display_data",
          "data": {
            "text/plain": [
              "<Figure size 2300x800 with 1 Axes>"
            ],
            "image/png": "[encoded data removed]"
          },
          "metadata": {}
        }
      ]
    },
    {
      "cell_type": "code",
      "source": [
        "#CNN\n",
        "CNNclassifier = Sequential()\n",
        "CNNclassifier.add(Conv2D(20, kernel_size=(3, 3), activation='relu', input_shape=(28,28,1)))\n",
        "CNNclassifier.add(MaxPooling2D(pool_size=(2, 2)))\n",
        "CNNclassifier.add(Conv2D(20, (3, 3), activation='relu'))\n",
        "CNNclassifier.add(MaxPooling2D(pool_size=(2, 2)))\n",
        "CNNclassifier.add(Flatten())\n",
        "CNNclassifier.add(Dense(units=200, activation='relu'))\n",
        "CNNclassifier.add(Dropout(0.2))\n",
        "CNNclassifier.add(Dense(units=200, activation='relu'))\n",
        "CNNclassifier.add(Dropout(0.2))\n",
        "CNNclassifier.add(Dense(units=num_classes, activation='softmax'))\n",
        "CNNclassifier.compile(optimizer='Adamax', loss='categorical_crossentropy',metrics=['accuracy'])\n",
        "\n",
        "start_time = time.time()  # Start timing\n",
        "history = CNNclassifier.fit(trainingData.reshape(-1, 28, 28, 1), trainingTarget, batch_size=128, epochs=epoch,\n",
        "verbose=True,validation_data=(validationData.reshape(-1, 28, 28, 1), keras.utils.to_categorical(validationTarget, num_classes)))\n",
        "end_time = time.time()  # End timing\n",
        "\n",
        "execution_time = end_time - start_time  # Calculate elapsed time\n",
        "print(f\"CNN Execution Time: {execution_time:.2f} seconds\")"
      ],
      "metadata": {
        "id": "yxXjbpta8IKX",
        "colab": {
          "base_uri": "https://localhost:8080/"
        },
        "outputId": "0a646e21-941a-4ce6-c4be-c618438c5cd0"
      },
      "execution_count": 49,
      "outputs": [
        {
          "output_type": "stream",
          "name": "stderr",
          "text": [
            "/usr/local/lib/python3.10/dist-packages/keras/src/layers/convolutional/base_conv.py:107: UserWarning: Do not pass an `input_shape`/`input_dim` argument to a layer. When using Sequential models, prefer using an `Input(shape)` object as the first layer in the model instead.\n",
            "  super().__init__(activity_regularizer=activity_regularizer, **kwargs)\n"
          ]
        },
        {
          "output_type": "stream",
          "name": "stdout",
          "text": [
            "\u001b[1m391/391\u001b[0m \u001b[32m━━━━━━━━━━━━━━━━━━━━\u001b[0m\u001b[37m\u001b[0m \u001b[1m6s\u001b[0m 10ms/step - accuracy: 0.6974 - loss: 0.9676 - val_accuracy: 0.9612 - val_loss: 0.1369\n",
            "CNN Execution Time: 6.88 seconds\n"
          ]
        }
      ]
    },
    {
      "cell_type": "code",
      "source": [
        "loss,valAccuracy = CNNclassifier.evaluate(validationData.reshape(-1, 28, 28, 1), keras.utils.to_categorical(validationTarget, num_classes), verbose=False)\n",
        "loss,testAccuracy = CNNclassifier.evaluate(testingData.reshape(-1, 28, 28, 1), keras.utils.to_categorical(testingTarget, num_classes), verbose=False)\n",
        "loss,testUSPSAccuracy = CNNclassifier.evaluate(np.array(USPSMat).reshape(-1, 28, 28, 1), keras.utils.to_categorical(USPSTar, num_classes), verbose=False)\n",
        "cnnMNISTPrediction = np.argmax(CNNclassifier.predict(testingData.reshape(-1, 28, 28, 1)), axis=1)\n",
        "cnnUSPSPrediction = np.argmax(CNNclassifier.predict(np.array(USPSMat).reshape(-1, 28, 28, 1)), axis=1)\n",
        "\n",
        "print ('---------------CNN----------------\\n')\n",
        "print('Validation accuracy    = ', valAccuracy*100)\n",
        "print('MNIST Testing accuracy = ', testAccuracy*100)\n",
        "print('USPS Testing accuracy  = ', testUSPSAccuracy*100,\"\\n\")\n",
        "print(\"\\nMNIST Confusion Matrix: \\n\\n\",confusion_matrix(testingTarget, cnnMNISTPrediction))\n",
        "print(\"\\nUSPS Confusion Matrix: \\n\\n\",confusion_matrix(USPSTar, cnnUSPSPrediction))"
      ],
      "metadata": {
        "id": "TXujXJE_8JDA",
        "colab": {
          "base_uri": "https://localhost:8080/"
        },
        "outputId": "e33b6819-8678-4085-e0e1-4caaa7175acb"
      },
      "execution_count": 50,
      "outputs": [
        {
          "output_type": "stream",
          "name": "stdout",
          "text": [
            "\u001b[1m313/313\u001b[0m \u001b[32m━━━━━━━━━━━━━━━━━━━━\u001b[0m\u001b[37m\u001b[0m \u001b[1m1s\u001b[0m 2ms/step\n",
            "\u001b[1m293/293\u001b[0m \u001b[32m━━━━━━━━━━━━━━━━━━━━\u001b[0m\u001b[37m\u001b[0m \u001b[1m0s\u001b[0m 2ms/step\n",
            "---------------CNN----------------\n",
            "\n",
            "Validation accuracy    =  96.11999988555908\n",
            "MNIST Testing accuracy =  95.87000012397766\n",
            "USPS Testing accuracy  =  56.20921850204468 \n",
            "\n",
            "\n",
            "MNIST Confusion Matrix: \n",
            "\n",
            " [[ 972    0    0    0    0    0    1    1    6    0]\n",
            " [   0 1115    5    2    0    0    3    1    9    0]\n",
            " [   7    0  986    7    3    0    2   16   10    1]\n",
            " [   0    1   15  964    0    6    0   13    7    4]\n",
            " [   1    3    4    1  942    0    8    1    3   19]\n",
            " [   5    1    2   17    0  843    8    1   13    2]\n",
            " [   6    3    1    1    4    9  931    0    3    0]\n",
            " [   2    5   19    3    0    1    0  983    4   11]\n",
            " [   5    2    5    8    8    7    4   14  916    5]\n",
            " [   8    6    3    9   18    5    0   12   13  935]]\n",
            "\n",
            "USPS Confusion Matrix: \n",
            "\n",
            " [[ 517    3  254   37  439   49   77   77   56  491]\n",
            " [  92  555  134  142  350   15   37  612   49   14]\n",
            " [  92    5 1578  105   40   42   41   62   21   13]\n",
            " [  10    1  109 1673    1  137    1   30   32    6]\n",
            " [   3   14   16   11  932   15    9  144  154   52]\n",
            " [   0    0    0    0    0    0    0    0    0    0]\n",
            " [   0    0    0    0    0    0    0    0    0    0]\n",
            " [   0    0    0    0    0    0    0    0    0    0]\n",
            " [   0    0    0    0    0    0    0    0    0    0]\n",
            " [   0    0    0    0    0    0    0    0    0    0]]\n"
          ]
        }
      ]
    },
    {
      "cell_type": "code",
      "source": [
        "# The matplotlib package is used for plotting graphs\n",
        "import matplotlib\n",
        "import matplotlib.pyplot as plt\n",
        "# Outputs training accuracy and loss against epochs\n",
        "fig2, ax2=plt.subplots(figsize=(23,8))\n",
        "ax2.plot(history.history['accuracy'])\n",
        "ax2.set(xlabel='Number of Epochs', ylabel='Training Accuracy')\n",
        "ax2.grid()\n",
        "plt.show()"
      ],
      "metadata": {
        "id": "sgsJPFUj8MS_",
        "colab": {
          "base_uri": "https://localhost:8080/",
          "height": 470
        },
        "outputId": "33900ee1-6000-4a31-c56d-2bcc3567f14a"
      },
      "execution_count": 51,
      "outputs": [
        {
          "output_type": "display_data",
          "data": {
            "text/plain": [
              "<Figure size 2300x800 with 1 Axes>"
            ],
            "image/png": "[encoded data removed]"
          },
          "metadata": {}
        }
      ]
    },
    {
      "cell_type": "code",
      "source": [
        "from keras.models import Sequential\n",
        "from keras.layers import LSTM, Dense, Dropout\n",
        "import keras\n",
        "import time\n",
        "\n",
        "# RNN\n",
        "\n",
        "num_classes = len(trainingTarget[0])  # Number of classes for classification\n",
        "timesteps = 28  # Number of timesteps in the sequence\n",
        "features = 28  # Number of features in each timestep\n",
        "\n",
        "# LSTM-based model\n",
        "RNNclassifier = Sequential()\n",
        "RNNclassifier.add(LSTM(units=200, activation='tanh', return_sequences=True, input_shape=(timesteps, features)))\n",
        "RNNclassifier.add(Dropout(0.2))\n",
        "RNNclassifier.add(LSTM(units=200, activation='tanh'))\n",
        "RNNclassifier.add(Dropout(0.2))\n",
        "RNNclassifier.add(Dense(units=num_classes, activation='softmax'))\n",
        "\n",
        "RNNclassifier.compile(optimizer='Adamax', loss='categorical_crossentropy', metrics=['accuracy'])\n",
        "\n",
        "# Reshape trainingData to match the expected input shape (samples, timesteps, features)\n",
        "trainingDataRNN = trainingData.reshape(-1, timesteps, features)\n",
        "\n",
        "start_time = time.time()  # Start timing\n",
        "# Training the model\n",
        "history = RNNclassifier.fit(\n",
        "    trainingDataRNN, # Pass the reshaped training data\n",
        "    trainingTarget,\n",
        "    batch_size=128,\n",
        "    epochs=epoch,\n",
        "    verbose=False,\n",
        "    validation_data=(validationData.reshape(-1, timesteps, features), keras.utils.to_categorical(validationTarget, num_classes))\n",
        ")\n",
        "end_time = time.time()  # End timing\n",
        "\n",
        "execution_time = end_time - start_time  # Calculate elapsed time\n",
        "print(f\"RNN Execution Time: {execution_time:.2f} seconds\")"
      ],
      "metadata": {
        "id": "Rg0iLKq6m1N0",
        "colab": {
          "base_uri": "https://localhost:8080/"
        },
        "outputId": "281ee3a7-a09e-4a57-c3e5-5cb2f8d195d8"
      },
      "execution_count": 52,
      "outputs": [
        {
          "output_type": "stream",
          "name": "stderr",
          "text": [
            "/usr/local/lib/python3.10/dist-packages/keras/src/layers/rnn/rnn.py:204: UserWarning: Do not pass an `input_shape`/`input_dim` argument to a layer. When using Sequential models, prefer using an `Input(shape)` object as the first layer in the model instead.\n",
            "  super().__init__(**kwargs)\n"
          ]
        },
        {
          "output_type": "stream",
          "name": "stdout",
          "text": [
            "RNN Execution Time: 6.01 seconds\n"
          ]
        }
      ]
    },
    {
      "cell_type": "code",
      "source": [
        "from sklearn.metrics import confusion_matrix\n",
        "\n",
        "# Reshaping data for RNN input (samples, timesteps, features)\n",
        "validationDataRNN = validationData.reshape(-1, timesteps, features)\n",
        "testingDataRNN = testingData.reshape(-1, timesteps, features)\n",
        "USPSDataRNN = np.array(USPSMat).reshape(-1, timesteps, features)\n",
        "\n",
        "# Evaluate the RNN model\n",
        "loss, valAccuracy = RNNclassifier.evaluate(validationDataRNN, keras.utils.to_categorical(validationTarget, num_classes), verbose=False)\n",
        "loss, testAccuracy = RNNclassifier.evaluate(testingDataRNN, keras.utils.to_categorical(testingTarget, num_classes), verbose=False)\n",
        "loss, testUSPSAccuracy = RNNclassifier.evaluate(USPSDataRNN, keras.utils.to_categorical(USPSTar, num_classes), verbose=False)\n",
        "\n",
        "# Predict using the RNN model\n",
        "rnnMNISTPrediction = np.argmax(RNNclassifier.predict(testingDataRNN), axis=1)\n",
        "rnnUSPSPrediction = np.argmax(RNNclassifier.predict(USPSDataRNN), axis=1)\n",
        "\n",
        "# Print results\n",
        "print('---------------RNN (LSTM)----------------\\n')\n",
        "print('Validation accuracy    = ', valAccuracy * 100)\n",
        "print('MNIST Testing accuracy = ', testAccuracy * 100)\n",
        "print('USPS Testing accuracy  = ', testUSPSAccuracy * 100, \"\\n\")\n",
        "print(\"\\nMNIST Confusion Matrix: \\n\\n\", confusion_matrix(testingTarget, rnnMNISTPrediction))\n",
        "print(\"\\nUSPS Confusion Matrix: \\n\\n\", confusion_matrix(USPSTar, rnnUSPSPrediction))\n"
      ],
      "metadata": {
        "id": "JwjqqBbjWiVJ",
        "colab": {
          "base_uri": "https://localhost:8080/"
        },
        "outputId": "316b85d7-b4fe-412b-a2f5-4f303f71ccf5"
      },
      "execution_count": 53,
      "outputs": [
        {
          "output_type": "stream",
          "name": "stdout",
          "text": [
            "\u001b[1m313/313\u001b[0m \u001b[32m━━━━━━━━━━━━━━━━━━━━\u001b[0m\u001b[37m\u001b[0m \u001b[1m1s\u001b[0m 3ms/step\n",
            "\u001b[1m293/293\u001b[0m \u001b[32m━━━━━━━━━━━━━━━━━━━━\u001b[0m\u001b[37m\u001b[0m \u001b[1m1s\u001b[0m 2ms/step\n",
            "---------------RNN (LSTM)----------------\n",
            "\n",
            "Validation accuracy    =  93.26000213623047\n",
            "MNIST Testing accuracy =  93.05999875068665\n",
            "USPS Testing accuracy  =  52.00555920600891 \n",
            "\n",
            "\n",
            "MNIST Confusion Matrix: \n",
            "\n",
            " [[ 933    0    1    0    4   22   12    1    4    3]\n",
            " [   0 1119    3    1    0    0    2    1    9    0]\n",
            " [   4    4  945   17    9    5    5   27    9    7]\n",
            " [   0    6   14  933    0    5    0   15   23   14]\n",
            " [   1    2    0    0  919    2   12    2    5   39]\n",
            " [   4    0    1    6    4  845    6    4   18    4]\n",
            " [   7    4    2    0   25   23  891    1    3    2]\n",
            " [   0    9   14    9    4    2    0  954    3   33]\n",
            " [   9    0    3   31   13   51    3    6  836   22]\n",
            " [   2    5    2    6   24    8    3   16   12  931]]\n",
            "\n",
            "USPS Confusion Matrix: \n",
            "\n",
            " [[ 954    0  252   12  288  241   28   68   11  146]\n",
            " [  34  407  371  172   11  117   20  779   73   16]\n",
            " [  68   10 1386  205   40   84   23   57   29   97]\n",
            " [  29    2  255 1464    1  151    0   34   31   33]\n",
            " [  55   13   63    6  651  139   11  336    7   69]\n",
            " [   0    0    0    0    0    0    0    0    0    0]\n",
            " [   0    0    0    0    0    0    0    0    0    0]\n",
            " [   0    0    0    0    0    0    0    0    0    0]\n",
            " [   0    0    0    0    0    0    0    0    0    0]\n",
            " [   0    0    0    0    0    0    0    0    0    0]]\n"
          ]
        }
      ]
    },
    {
      "cell_type": "code",
      "source": [
        "# The matplotlib package is used for plotting graphs\n",
        "import matplotlib\n",
        "import matplotlib.pyplot as plt\n",
        "# Outputs training accuracy and loss against epochs\n",
        "fig2, ax2=plt.subplots(figsize=(23,8))\n",
        "ax2.plot(history.history['accuracy'])\n",
        "ax2.set(xlabel='Number of Epochs', ylabel='Training Accuracy')\n",
        "ax2.grid()\n",
        "plt.show()"
      ],
      "metadata": {
        "id": "6T0ahYyeW271",
        "colab": {
          "base_uri": "https://localhost:8080/",
          "height": 470
        },
        "outputId": "3346b038-5678-4283-b988-8ea8bd7987c2"
      },
      "execution_count": 54,
      "outputs": [
        {
          "output_type": "display_data",
          "data": {
            "text/plain": [
              "<Figure size 2300x800 with 1 Axes>"
            ],
            "image/png": "[encoded data removed]"
          },
          "metadata": {}
        }
      ]
    },
    {
      "cell_type": "code",
      "source": [],
      "metadata": {
        "id": "gZFNQmHioWIn"
      },
      "execution_count": null,
      "outputs": []
    }
  ]
}